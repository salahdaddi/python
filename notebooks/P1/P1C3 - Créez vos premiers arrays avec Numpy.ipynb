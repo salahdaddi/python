{
  "cells": [
    {
      "cell_type": "markdown",
      "id": "c228b8d7",
      "metadata": {
        "id": "c228b8d7"
      },
      "source": [
        "![openclassrooms](https://s3.eu-west-1.amazonaws.com/course.oc-static.com/courses/6204541/1+HnqdJ-5ofxiPP9HIxdNdpw.jpeg)\n",
        "\n",
        "# Créez vos premiers arrays avec Numpy\n",
        "\n",
        "Tout au long de ce cours, nous allons nous mettre dans la peau d’une personne travaillant  dans un service data au sein d'une banque. Plus précisément, vous travaillez pour la filière gérant les différents prêts. L’objectif sera d’utiliser les connaissances acquises sur les librairies Python pour aider l’agence dans différentes tâches.\n",
        "\n",
        "Pour cette première tâche, nous avons à notre disposition les revenus de 10 clients de notre banque. Vous aurez à utiliser les différentes manipulations présentées dans ce chapitre pour sélectionner certains revenus selon une condition spécifique et effectuer diverses opérations."
      ]
    },
    {
      "cell_type": "code",
      "execution_count": null,
      "id": "dc9d8094",
      "metadata": {
        "id": "dc9d8094"
      },
      "outputs": [],
      "source": [
        "import numpy as np"
      ]
    },
    {
      "cell_type": "markdown",
      "id": "c180d60a",
      "metadata": {
        "id": "c180d60a"
      },
      "source": [
        "Considérons les revenus mensuels suivants :"
      ]
    },
    {
      "cell_type": "code",
      "execution_count": null,
      "id": "4e9af3c4",
      "metadata": {
        "id": "4e9af3c4"
      },
      "outputs": [],
      "source": [
        "liste = [1800, 1500, 2200, 3000, 2172, 5000, 1400, 1200, 1100, 1300]"
      ]
    },
    {
      "cell_type": "markdown",
      "id": "4025d141",
      "metadata": {
        "id": "4025d141"
      },
      "source": [
        "A partir de ces revenus, créez un array que vous nommerez `revenus` :"
      ]
    },
    {
      "cell_type": "code",
      "execution_count": 6,
      "id": "85ea09e2",
      "metadata": {
        "id": "85ea09e2",
        "outputId": "280339c9-3588-4a11-ba30-3cb10c1a0a8c",
        "colab": {
          "base_uri": "https://localhost:8080/",
          "height": 159
        }
      },
      "outputs": [
        {
          "output_type": "error",
          "ename": "NameError",
          "evalue": "name 'np' is not defined",
          "traceback": [
            "\u001b[0;31m---------------------------------------------------------------------------\u001b[0m",
            "\u001b[0;31mNameError\u001b[0m                                 Traceback (most recent call last)",
            "\u001b[0;32m<ipython-input-6-daaba454ccc3>\u001b[0m in \u001b[0;36m<cell line: 0>\u001b[0;34m()\u001b[0m\n\u001b[0;32m----> 1\u001b[0;31m \u001b[0mrevenus\u001b[0m \u001b[0;34m=\u001b[0m \u001b[0mnp\u001b[0m\u001b[0;34m.\u001b[0m\u001b[0marray\u001b[0m\u001b[0;34m(\u001b[0m\u001b[0mliste\u001b[0m\u001b[0;34m)\u001b[0m\u001b[0;34m\u001b[0m\u001b[0;34m\u001b[0m\u001b[0m\n\u001b[0m\u001b[1;32m      2\u001b[0m \u001b[0mdisplay\u001b[0m\u001b[0;34m(\u001b[0m\u001b[0mrevenus\u001b[0m\u001b[0;34m)\u001b[0m\u001b[0;34m\u001b[0m\u001b[0;34m\u001b[0m\u001b[0m\n",
            "\u001b[0;31mNameError\u001b[0m: name 'np' is not defined"
          ]
        }
      ],
      "source": [
        "revenus = np.array(liste)\n",
        "display(revenus)"
      ]
    },
    {
      "cell_type": "markdown",
      "id": "ef50d992",
      "metadata": {
        "id": "ef50d992"
      },
      "source": [
        "Maintenant, créez un nouvel array `haut_revenus` dans lequel vous sélectionnerez l'ensemble des revenus supérieurs ou égal à 3000€ :"
      ]
    },
    {
      "cell_type": "code",
      "execution_count": 5,
      "id": "b5b13147",
      "metadata": {
        "id": "b5b13147",
        "outputId": "e73ead20-cc24-4ba4-c2a7-7096ccdbcf16",
        "colab": {
          "base_uri": "https://localhost:8080/",
          "height": 141
        }
      },
      "outputs": [
        {
          "output_type": "error",
          "ename": "NameError",
          "evalue": "name 'revenus' is not defined",
          "traceback": [
            "\u001b[0;31m---------------------------------------------------------------------------\u001b[0m",
            "\u001b[0;31mNameError\u001b[0m                                 Traceback (most recent call last)",
            "\u001b[0;32m<ipython-input-5-cad16c8e5f86>\u001b[0m in \u001b[0;36m<cell line: 0>\u001b[0;34m()\u001b[0m\n\u001b[0;32m----> 1\u001b[0;31m \u001b[0mhaut_revenus\u001b[0m \u001b[0;34m=\u001b[0m \u001b[0;34m[\u001b[0m\u001b[0mrevenus\u001b[0m\u001b[0;34m>=\u001b[0m\u001b[0;36m3000\u001b[0m\u001b[0;34m]\u001b[0m\u001b[0;34m\u001b[0m\u001b[0;34m\u001b[0m\u001b[0m\n\u001b[0m",
            "\u001b[0;31mNameError\u001b[0m: name 'revenus' is not defined"
          ]
        }
      ],
      "source": [
        "haut_revenus = revenus[revenus>=3000]"
      ]
    },
    {
      "cell_type": "markdown",
      "id": "26e51644",
      "metadata": {
        "id": "26e51644"
      },
      "source": [
        "Il est à présent temps de calculer quelques indicateurs :\n",
        "- calculez dans un premier temps la somme des revenus **annuelle**. Pour rappel, les revenus listés ci dessus sont mensuels.\n",
        "- calculez ensuite la moyenne des revenus des 10 clients"
      ]
    },
    {
      "cell_type": "code",
      "execution_count": null,
      "id": "197015a8",
      "metadata": {
        "id": "197015a8"
      },
      "outputs": [],
      "source": [
        "somme = (np.sum(revenus))*12"
      ]
    },
    {
      "cell_type": "code",
      "execution_count": null,
      "id": "4555b2ac",
      "metadata": {
        "id": "4555b2ac"
      },
      "outputs": [],
      "source": [
        "moyenne = np.mean(revenus)"
      ]
    },
    {
      "cell_type": "markdown",
      "id": "2ed2f4fd",
      "metadata": {
        "id": "2ed2f4fd"
      },
      "source": [
        "Un de nos clients (dont les revenus mensuels s'élevaient jusque là à 1400€) vient de nous annoncer qu'il venait d'obtenir une promotion. Grâce à cette dernière, il a gagné 200€ sur son salaire mensuel. Effectuez cette modification au sein de votre array revenus."
      ]
    },
    {
      "cell_type": "code",
      "execution_count": 1,
      "id": "2b216c95",
      "metadata": {
        "id": "2b216c95",
        "outputId": "b54778b2-a02c-4b03-c05a-08e9e1effa39",
        "colab": {
          "base_uri": "https://localhost:8080/",
          "height": 106
        }
      },
      "outputs": [
        {
          "output_type": "error",
          "ename": "SyntaxError",
          "evalue": "cannot assign to comparison (<ipython-input-1-6b4d691e9e72>, line 1)",
          "traceback": [
            "\u001b[0;36m  File \u001b[0;32m\"<ipython-input-1-6b4d691e9e72>\"\u001b[0;36m, line \u001b[0;32m1\u001b[0m\n\u001b[0;31m    revenus = [revenus == 1400] = 1600\u001b[0m\n\u001b[0m               ^\u001b[0m\n\u001b[0;31mSyntaxError\u001b[0m\u001b[0;31m:\u001b[0m cannot assign to comparison\n"
          ]
        }
      ],
      "source": [
        "revenus = revenus[revenus == 1400] = 1600"
      ]
    },
    {
      "cell_type": "markdown",
      "id": "7bf8c46b",
      "metadata": {
        "id": "7bf8c46b"
      },
      "source": [
        "Félicitation pour être arrivé au bout !\n",
        "\n",
        "Si vous avez rencontré certains problèmes : aucune inquiétude :)\n",
        "\n",
        "Vous pouvez à présent vous référer à la correction ci-contre qui propose une solution complète : [lien vers la solution](https://colab.research.google.com/github/OpenClassrooms-Student-Center/fr-4452741-decouvrez-les-librairies-python-pour-la-data-science/blob/main/notebooks/P1/P1C3%20-%20Cr%C3%A9ez%20vos%20premiers%20arrays%20avec%20Numpy%20-%20correction.ipynb)."
      ]
    }
  ],
  "metadata": {
    "kernelspec": {
      "display_name": "Python 3 (ipykernel)",
      "language": "python",
      "name": "python3"
    },
    "language_info": {
      "codemirror_mode": {
        "name": "ipython",
        "version": 3
      },
      "file_extension": ".py",
      "mimetype": "text/x-python",
      "name": "python",
      "nbconvert_exporter": "python",
      "pygments_lexer": "ipython3",
      "version": "3.9.13"
    },
    "colab": {
      "provenance": []
    }
  },
  "nbformat": 4,
  "nbformat_minor": 5
}