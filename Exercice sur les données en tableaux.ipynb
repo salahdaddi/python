{
  "cells": [
    {
      "cell_type": "markdown",
      "metadata": {
        "id": "view-in-github",
        "colab_type": "text"
      },
      "source": [
        "<a href=\"https://colab.research.google.com/github/salahdaddi/python/blob/main/Exercice%20sur%20les%20donn%C3%A9es%20en%20tableaux.ipynb\" target=\"_parent\"><img src=\"https://colab.research.google.com/assets/colab-badge.svg\" alt=\"Open In Colab\"/></a>"
      ]
    },
    {
      "cell_type": "markdown",
      "id": "79768348",
      "metadata": {
        "id": "79768348"
      },
      "source": [
        "![openclassrooms](https://s3.eu-west-1.amazonaws.com/course.oc-static.com/courses/6204541/1+HnqdJ-5ofxiPP9HIxdNdpw.jpeg)\n",
        "\n",
        "# Transformez vos données en tableaux\n",
        "\n",
        "Pour cette seconde tâche, nous travaillons toujours sur les mêmes 10 clients, mais nous avons cette fois trois informations à disposition sur chacun d’eux :\n",
        "- le revenu mensuel\n",
        "- l'âge du client\n",
        "- le nombre d’enfants à charge\n",
        "\n",
        "L’objectif va être de créer un tableau NumPy à partir de ces informations et de répondre aux différentes demandes formulées par notre service prêt en manipulant ce tableau avec les différentes techniques présentées tout au long de ce chapitre."
      ]
    },
    {
      "cell_type": "code",
      "execution_count": null,
      "id": "87ad096c",
      "metadata": {
        "id": "87ad096c"
      },
      "outputs": [],
      "source": [
        "import numpy as np"
      ]
    },
    {
      "cell_type": "markdown",
      "id": "0c6779de",
      "metadata": {
        "id": "0c6779de"
      },
      "source": [
        "L'ensemble des ces informations sont rassemblées dans la liste `tableau` suivante :"
      ]
    },
    {
      "cell_type": "code",
      "execution_count": null,
      "id": "5c4e902c",
      "metadata": {
        "id": "5c4e902c",
        "outputId": "f310afef-633c-45d8-f6c8-d3e27b573869"
      },
      "outputs": [
        {
          "data": {
            "text/plain": [
              "[[1800, 21, 0],\n",
              " [1500, 54, 2],\n",
              " [2200, 28, 3],\n",
              " [3000, 37, 1],\n",
              " [2172, 37, 2],\n",
              " [5000, 32, 0],\n",
              " [1400, 23, 0],\n",
              " [1200, 25, 1],\n",
              " [1100, 19, 0],\n",
              " [1300, 31, 2]]"
            ]
          },
          "metadata": {},
          "output_type": "display_data"
        }
      ],
      "source": [
        "hugo = [1800, 21, 0]\n",
        "richard = [1500, 54, 2]\n",
        "emilie = [2200, 28, 3]\n",
        "pierre = [3000, 37, 1]\n",
        "paul = [2172, 37, 2]\n",
        "deborah = [5000, 32, 0]\n",
        "yohann = [1400, 23, 0]\n",
        "anne = [1200, 25, 1]\n",
        "thibault = [1100, 19, 0]\n",
        "emmanuel = [1300, 31, 2]\n",
        "\n",
        "tableau = [hugo, richard, emilie, pierre, paul, deborah,\n",
        "           yohann, anne, thibault, emmanuel]\n",
        "\n",
        "display(tableau)"
      ]
    },
    {
      "cell_type": "markdown",
      "id": "6025932d",
      "metadata": {
        "id": "6025932d"
      },
      "source": [
        "A partir de cette liste, créez un array que vous nommerez `data` :"
      ]
    },
    {
      "cell_type": "code",
      "source": [
        "data = np.array(tableau)"
      ],
      "metadata": {
        "id": "9Q9pgIFeSio6"
      },
      "id": "9Q9pgIFeSio6",
      "execution_count": null,
      "outputs": []
    },
    {
      "cell_type": "markdown",
      "id": "eaedaadf",
      "metadata": {
        "id": "eaedaadf"
      },
      "source": [
        "Paul souhaiterait contracter un prêt immobilier :\n",
        "- affichez les informations qui lui sont relatives. Pour rappel, Paul correspond à la 5ème ligne de nos données\n",
        "- calculez ses mensualités maximales, en sachant que le taux d'endettement maximum est de 35% (il ne pourra donc pas rembourser par mois plus de 35% de son revenu)."
      ]
    },
    {
      "cell_type": "code",
      "execution_count": null,
      "id": "7923477b",
      "metadata": {
        "id": "7923477b"
      },
      "outputs": [],
      "source": [
        "print(data[4,:])\n",
        "taux_max = data[4,1]*0.5"
      ]
    },
    {
      "cell_type": "markdown",
      "id": "8d53aba6",
      "metadata": {
        "id": "8d53aba6"
      },
      "source": [
        "Un nouveau client vient d'arriver, dont les informations sont les suivantes :"
      ]
    },
    {
      "cell_type": "code",
      "execution_count": null,
      "id": "bdfd0e22",
      "metadata": {
        "id": "bdfd0e22"
      },
      "outputs": [],
      "source": [
        "louise = [1900, 31, 1]"
      ]
    },
    {
      "cell_type": "markdown",
      "id": "80b6778a",
      "metadata": {
        "id": "80b6778a"
      },
      "source": [
        "Ajoutez ces informations à la suite de votre array `data` :"
      ]
    },
    {
      "cell_type": "code",
      "execution_count": null,
      "id": "4fa46ed6",
      "metadata": {
        "id": "4fa46ed6"
      },
      "outputs": [],
      "source": [
        "data = np.vstack((data,louise))"
      ]
    },
    {
      "cell_type": "markdown",
      "id": "e8b3fa7f",
      "metadata": {
        "id": "e8b3fa7f"
      },
      "source": [
        "Stockez enfin l'ensemble des informations de salaire de notre clientèle dans une variable `revenus` :"
      ]
    },
    {
      "cell_type": "code",
      "execution_count": null,
      "id": "ff79413c",
      "metadata": {
        "id": "ff79413c"
      },
      "outputs": [],
      "source": [
        "revenus = data[:,0]"
      ]
    },
    {
      "cell_type": "markdown",
      "id": "66eb8d15",
      "metadata": {
        "id": "66eb8d15"
      },
      "source": [
        "Bien joué !\n",
        "\n",
        "Comme d'habitude, je vous propose de retrouver la correction ci-contre proposant une solution complète, que ce soit pour vérifier votre travail ou comprendre un point qui aurait été bloquant :\n",
        "[lien vers la solution](https://colab.research.google.com/github/OpenClassrooms-Student-Center/fr-4452741-decouvrez-les-librairies-python-pour-la-data-science/blob/main/notebooks/P1/P1C4%20-%20Transformez%20vos%20donn%C3%A9es%20en%20tableaux%20-%20correction.ipynb)."
      ]
    }
  ],
  "metadata": {
    "kernelspec": {
      "display_name": "Python 3 (ipykernel)",
      "language": "python",
      "name": "python3"
    },
    "language_info": {
      "codemirror_mode": {
        "name": "ipython",
        "version": 3
      },
      "file_extension": ".py",
      "mimetype": "text/x-python",
      "name": "python",
      "nbconvert_exporter": "python",
      "pygments_lexer": "ipython3",
      "version": "3.9.13"
    },
    "colab": {
      "provenance": [],
      "include_colab_link": true
    }
  },
  "nbformat": 4,
  "nbformat_minor": 5
}